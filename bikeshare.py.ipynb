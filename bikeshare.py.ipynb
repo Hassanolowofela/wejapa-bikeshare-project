{
 "cells": [
  {
   "cell_type": "code",
   "execution_count": 1,
   "metadata": {},
   "outputs": [],
   "source": [
    "import pandas as pd\n",
    "import datetime as dt\n",
    "import calendar\n",
    "import numpy as np\n",
    "from time import time"
   ]
  },
  {
   "cell_type": "code",
   "execution_count": 2,
   "metadata": {},
   "outputs": [],
   "source": [
    "CITY_DATA = { 'Chicago': 'chicago.csv',\n",
    "              'New York': 'new_york_city.csv',\n",
    "              'Washington': 'washington.csv' }\n"
   ]
  },
  {
   "cell_type": "code",
   "execution_count": 3,
   "metadata": {},
   "outputs": [
    {
     "name": "stdout",
     "output_type": "stream",
     "text": [
      "A Wonderful day to you great Mentor!\n"
     ]
    }
   ],
   "source": [
    "print(\"A Wonderful day to you great Mentor!\")\n"
   ]
  },
  {
   "cell_type": "code",
   "execution_count": 4,
   "metadata": {},
   "outputs": [
    {
     "name": "stdout",
     "output_type": "stream",
     "text": [
      " Would you like to see data for Chicago, New York, or Washington? \n",
      "Chicago\n",
      "How would you like your data filtered?\n",
      " please enter any of the options given below:\n",
      " month\n",
      " day\n",
      " both \n",
      "day\n",
      "Please enter a day of your choice. All days must begin with a capital letter. (e.g. Monday)\n",
      "Thursday\n"
     ]
    }
   ],
   "source": [
    "\n",
    "def load_data(city, month, day):\n",
    "       \n",
    "    while True:\n",
    "        try:\n",
    "            # load data file into a dataframe\n",
    "            City = str(input(\" Would you like to see data for Chicago, New York, or Washington? \\n\"))\n",
    "            df = pd.DataFrame(pd.read_csv(CITY_DATA[City]))\n",
    "        except (KeyError, NameError, TypeError, ValueError):\n",
    "            print(\" Oooops!\\n Please use the appropriate name and begin with a capital letter (e.g. city: Chicago) \")\n",
    "        else:\n",
    "            break\n",
    "    # convert the Start Time column to datetime\n",
    "    df['Start Time'] = pd.to_datetime(df['Start Time'], format ='%Y/%m/%d %H:%M:%S')\n",
    "   \n",
    "    #extract month and day of week from Start Time to create new columns\n",
    "    df['month'] = pd.DatetimeIndex(df['Start Time']).month_name()\n",
    "    df['day_of_week'] = pd.DatetimeIndex(df['Start Time']).day_name()\n",
    "   \n",
    "\n",
    "    filter_words = ['month', 'day', 'both'] \n",
    "    \n",
    "    while True:\n",
    "        try:\n",
    "            filter_option = str(input(\"How would you like your data filtered?\\n please enter any of the options given below:\\n month\\n day\\n both \\n\"))\n",
    "                \n",
    "            if filter_option == 'month':\n",
    "                while True:\n",
    "                    try:    \n",
    "                        month1 = str(input(\"Please choose a month between January and June. Ensure to begin with a 'Capital letter'.(e.g. January)\\n\"))\n",
    "                        if month1 != 'both':\n",
    "                            # use the index of the months list to get the corresponding int\n",
    "                            months = ['January', 'February', 'March', 'April', 'May', 'June']\n",
    "                            month = months.index(month1)\n",
    "                            df = df[df['Start Time'].dt.month == month+1]   \n",
    "                    except (KeyError, NameError, TypeError, ValueError):\n",
    "                        print(\" Oooops!\\n Please use the appropriate name and begin with a capital letter (e.g. January)\\n \")\n",
    "                    else:\n",
    "                        break\n",
    "\n",
    "            elif filter_option == 'day':\n",
    "                while True:\n",
    "                    try:\n",
    "                        day1 = input(\"Please enter a day of your choice. All days must begin with a capital letter. (e.g. Monday)\\n\")\n",
    "                        # filter by day of week if applicable\n",
    "                        if day1 != 'both':\n",
    "                            # filter by day of week to create the new dataframe\n",
    "                            days = ['Sunday', 'Monday', 'Tuesday', 'Wednesday', 'Thursday', 'Friday', 'Saturday']\n",
    "                            day = days.index(day1)\n",
    "                            df = df[df['Start Time'].dt.day == day+1]\n",
    "                    except (KeyError, NameError, TypeError, ValueError):\n",
    "                        print(\" Oooops!\\n Please use the appropriate name and begin with a capital letter (e.g. Monday)\\n \")\n",
    "                    else:\n",
    "                        break\n",
    "\n",
    "            elif filter_option == 'both':\n",
    "                while True:\n",
    "                    try:\n",
    "                        month1 = input(\"Please choose a month between January and June. Ensure to begin with a 'Capital letter'.(e.g. January)\\n\")\n",
    "                    except (KeyError, NameError, TypeError, ValueError):\n",
    "                        print(\" Oooops!\\n Please use the appropriate name and begin with a capital letter (e.g. January)\\n \")\n",
    "                    else:\n",
    "                        break\n",
    "                while True:\n",
    "                    try:\n",
    "                        day1 = input(\"Please enter a day of your choice. All days must begin with a capital letter. (e.g. Monday)\\n\")\n",
    "                    except (KeyError, NameError, TypeError, ValueError):\n",
    "                        print(\" Oooops!\\n Please use the appropriate name and begin with a capital letter (e.g. Monday)\\n \")\n",
    "                    else:\n",
    "                        break\n",
    "                        if (month1 or day1) != 'all':\n",
    "                            months = ['January', 'February', 'March', 'April', 'May', 'June']\n",
    "                            days = ['Sunday', 'Monday', 'Tuesday', 'Wednesday', 'Thursday', 'Friday', 'Saturday']\n",
    "                            month = months.index(month1)\n",
    "                            day = days.index(day1)\n",
    "                            df = df[(df['Start Time'].dt.month == month+1) & (df['Start Time'].dt.day == day+1)]\n",
    "            else:\n",
    "                print(\" Oooops!\\n Please use the appropriate name and begin with a lower case (e.g. month, day or both) \")\n",
    "                if (filter_option not in filter_words):\n",
    "                    continue\n",
    "            \n",
    "            \n",
    "        except (KeyError, NameError, TypeError, ValueError):\n",
    "            print(\" Oooops!\\n Please use the appropriate name and begin with a lower case (e.g. month, day or both) \")\n",
    "            if (filter_option not in filter_words):\n",
    "                continue\n",
    "        else:\n",
    "            break       \n",
    "\n",
    "    return df\n",
    "\n",
    "df = load_data('city', 'month', 'day')\n"
   ]
  },
  {
   "cell_type": "code",
   "execution_count": 5,
   "metadata": {},
   "outputs": [
    {
     "name": "stdout",
     "output_type": "stream",
     "text": [
      "Here is the data statistics you have requested for....\n"
     ]
    }
   ],
   "source": [
    "print(\"Here is the data statistics you have requested for....\")"
   ]
  },
  {
   "cell_type": "code",
   "execution_count": 6,
   "metadata": {},
   "outputs": [
    {
     "ename": "AttributeError",
     "evalue": "'builtin_function_or_method' object has no attribute 'time'",
     "output_type": "error",
     "traceback": [
      "\u001b[1;31m---------------------------------------------------------------------------\u001b[0m",
      "\u001b[1;31mAttributeError\u001b[0m                            Traceback (most recent call last)",
      "\u001b[1;32m<ipython-input-6-2083528be4a0>\u001b[0m in \u001b[0;36m<module>\u001b[1;34m\u001b[0m\n\u001b[1;32m----> 1\u001b[1;33m \u001b[0mt1\u001b[0m \u001b[1;33m=\u001b[0m \u001b[0mtime\u001b[0m\u001b[1;33m.\u001b[0m\u001b[0mtime\u001b[0m\u001b[1;33m(\u001b[0m\u001b[1;33m)\u001b[0m\u001b[1;33m\u001b[0m\u001b[1;33m\u001b[0m\u001b[0m\n\u001b[0m\u001b[0;32m      2\u001b[0m \u001b[1;31m# print value counts for each user type\u001b[0m\u001b[1;33m\u001b[0m\u001b[1;33m\u001b[0m\u001b[1;33m\u001b[0m\u001b[0m\n\u001b[0;32m      3\u001b[0m \u001b[0muser_types\u001b[0m \u001b[1;33m=\u001b[0m \u001b[0mpd\u001b[0m\u001b[1;33m.\u001b[0m\u001b[0mSeries\u001b[0m\u001b[1;33m(\u001b[0m\u001b[0mdf\u001b[0m\u001b[1;33m[\u001b[0m\u001b[1;34m'User Type'\u001b[0m\u001b[1;33m]\u001b[0m\u001b[1;33m.\u001b[0m\u001b[0mvalue_counts\u001b[0m\u001b[1;33m(\u001b[0m\u001b[1;33m)\u001b[0m\u001b[1;33m)\u001b[0m\u001b[1;33m\u001b[0m\u001b[1;33m\u001b[0m\u001b[0m\n\u001b[0;32m      4\u001b[0m \u001b[0mt2\u001b[0m \u001b[1;33m=\u001b[0m \u001b[0mtime\u001b[0m\u001b[1;33m.\u001b[0m\u001b[0mtime\u001b[0m\u001b[1;33m(\u001b[0m\u001b[1;33m)\u001b[0m\u001b[1;33m\u001b[0m\u001b[1;33m\u001b[0m\u001b[0m\n\u001b[0;32m      5\u001b[0m \u001b[0mprint\u001b[0m\u001b[1;33m(\u001b[0m\u001b[1;34m\"This is the user analysis {}  which took {} seconds to process:\\n\"\u001b[0m\u001b[1;33m.\u001b[0m\u001b[0mformat\u001b[0m\u001b[1;33m(\u001b[0m\u001b[0muser_types\u001b[0m\u001b[1;33m,\u001b[0m \u001b[1;33m(\u001b[0m\u001b[0mt2\u001b[0m \u001b[1;33m-\u001b[0m \u001b[0mt1\u001b[0m\u001b[1;33m)\u001b[0m\u001b[1;33m)\u001b[0m\u001b[1;33m)\u001b[0m\u001b[1;33m\u001b[0m\u001b[1;33m\u001b[0m\u001b[0m\n",
      "\u001b[1;31mAttributeError\u001b[0m: 'builtin_function_or_method' object has no attribute 'time'"
     ]
    }
   ],
   "source": [
    "\n",
    "user_types = pd.Series(df['User Type'].value_counts())\n",
    "t2 = time.time()\n",
    "print(\"This is the user analysis {}:\\n\".format(user_types, ))\n"
   ]
  },
  {
   "cell_type": "code",
   "execution_count": null,
   "metadata": {},
   "outputs": [],
   "source": [
    "print(\"computing the next data statistics.....\")\n",
    "t1 = time.time()\n",
    "#extract hour of week from Start Time to create new columns\n",
    "df['hour'] = pd.DatetimeIndex(df['Start Time']).hour\n",
    "Most_popular_hour = pd.DataFrame(df['hour']).mode()\n",
    "t2 = time.time()\n",
    "print(\"The Most common hour is {}  which took {} seconds to process:\\n\".format(Most_popular_hour, (t2 - t1)))\n",
    "\n",
    "\n"
   ]
  },
  {
   "cell_type": "code",
   "execution_count": null,
   "metadata": {},
   "outputs": [],
   "source": [
    "print(\"computing the next data statistics.....\")\n",
    "t1 = time.time()\n",
    "# extract day from the Start Time column to create a day column\n",
    "df['day'] =  pd.DatetimeIndex(df['Start Time']).day_name()\n",
    "\n",
    "# find the most common day (from 0 to 23)\n",
    "popular_day = pd.DataFrame(df['day']).mode()\n",
    "t2 = time.time()\n",
    "print(\"The Most Frequent Start Day of week:{}  which took {} seconds to process:\\n\".format(popular_day, (t2 - t1)))\n",
    "\n"
   ]
  },
  {
   "cell_type": "code",
   "execution_count": null,
   "metadata": {},
   "outputs": [],
   "source": [
    "print(\"computing the next data statistics.....\")\n",
    "t1 = time.time()\n",
    "#extract month and day of week from Start Time to create new columns\n",
    "df['month'] = pd.DatetimeIndex(df['Start Time']).month_name()\n",
    "Most_popular_month = pd.Series(df['month']).mode()\n",
    "t2 = time.time()\n",
    "print(\"The Most common month is:{}  which took {} seconds to process:\\n\".format(Most_popular_month, (t2 - t1)))\n",
    "\n"
   ]
  },
  {
   "cell_type": "code",
   "execution_count": null,
   "metadata": {},
   "outputs": [],
   "source": [
    "print(\"computing the next data statistics.....\")\n",
    "t1 = time.time()\n",
    "Most_popular_station = pd.Series(df['Start Station']).mode()\n",
    "t2 = time.time()\n",
    "print(\"The most common start station is:{}  which took {} seconds to process:\\n\".format( Most_popular_station, (t2 - t1)))\n",
    "\n"
   ]
  },
  {
   "cell_type": "code",
   "execution_count": null,
   "metadata": {},
   "outputs": [],
   "source": [
    "print(\"computing the next data statistics.....\")\n",
    "t1 = time.time()\n",
    "Most_popular_end_station = pd.Series(df['End Station']).mode()\n",
    "t2 = time.time()\n",
    "print(\"The most common end station is:{}  which took {} seconds to process:\\n\".format(Most_popular_end_station, (t2 - t1)))\n",
    "\n"
   ]
  },
  {
   "cell_type": "code",
   "execution_count": null,
   "metadata": {},
   "outputs": [],
   "source": [
    "print(\"computing the next data statistics.....\")\n",
    "t1 = time.time()\n",
    "Most_popular_trip_duration = pd.Series(df['Trip Duration']).mode()\n",
    "t2 = time.time()\n",
    "print(\"The most common Trip duration are:{}  which took {} seconds to process:\\n\".format(Most_popular_trip_duration, (t2 - t1)))\n"
   ]
  },
  {
   "cell_type": "code",
   "execution_count": null,
   "metadata": {},
   "outputs": [],
   "source": [
    "print(\"computing the next data statistics.....\")\n"
   ]
  },
  {
   "cell_type": "code",
   "execution_count": null,
   "metadata": {},
   "outputs": [],
   "source": [
    "t1 = time.time()\n",
    "df['day_of_week1'] = pd.DatetimeIndex(df['Start Time']).day_name()\n",
    "bb = df['day_of_week1'].mode()\n",
    "t2 = time.time()\n",
    "print(\"The most common day of the week is :{}  which took {} seconds to process:\\n\".format(bb, (t2 - t1)))\n"
   ]
  },
  {
   "cell_type": "code",
   "execution_count": null,
   "metadata": {},
   "outputs": [],
   "source": [
    "print(\"processing the next data....\")\n",
    "t1 = time.time()\n",
    "columns = ['Start Station', 'End Station']\n",
    "df1 = pd.DataFrame(df[:], columns=columns).mode()\n",
    "t2 = time.time()\n",
    "print(\"The most common trip from start to end is :{}  which took {} seconds to process:\\n\".format(df1, (t2 - t1)))\n",
    "\n"
   ]
  },
  {
   "cell_type": "code",
   "execution_count": null,
   "metadata": {},
   "outputs": [],
   "source": [
    "print(\"processing the next data....\")\n",
    "t1 = time.time()\n",
    "Total_duration = np.sum(df['Trip Duration'])\n",
    "Average_Total_duration = np.mean(df['Trip Duration'])\n",
    "print(\"The total trip duration is:{} and the average of the durations is : {}\".format(Total_duration, Average_Total_duration))"
   ]
  },
  {
   "cell_type": "code",
   "execution_count": null,
   "metadata": {},
   "outputs": [],
   "source": [
    "print(\"processing the next data....\")\n",
    "t1 = time.time()\n",
    "Gender_counts = pd.Series(df['Gender'].value_counts())\n",
    "print(\"This is the count accordiing to the gender:\\n {}\".format(Gender_counts))"
   ]
  },
  {
   "cell_type": "code",
   "execution_count": null,
   "metadata": {},
   "outputs": [],
   "source": [
    "print(\"processing the next data....\")\n",
    "t1 = time.time()\n",
    "Most_common_Birth_year = pd.Series(df['Birth Year']).mode()\n",
    "print(\"The most common birth year is:\\n \", Most_common_Birth_year)\n"
   ]
  },
  {
   "cell_type": "code",
   "execution_count": null,
   "metadata": {},
   "outputs": [],
   "source": [
    "while True:\n",
    "    try:\n",
    "        que = input(\"would you like to access all data files? Enter yes or no\\n\")\n",
    "        if que == 'yes':\n",
    "            for i in CITY_DATA:\n",
    "                data = pd.DataFrame(pd.read_csv(CITY_DATA[i]))\n",
    "                random_subset = data.sample()\n",
    "                print(random_subset.head())\n",
    "        elif que == 'no':\n",
    "            break\n",
    "    \n",
    "    except(KeyError, NameError):\n",
    "        print('Please enter yes or no')\n",
    "    \n"
   ]
  },
  {
   "cell_type": "code",
   "execution_count": null,
   "metadata": {},
   "outputs": [],
   "source": []
  },
  {
   "cell_type": "code",
   "execution_count": null,
   "metadata": {},
   "outputs": [],
   "source": []
  }
 ],
 "metadata": {
  "kernelspec": {
   "display_name": "Python 3",
   "language": "python",
   "name": "python3"
  },
  "language_info": {
   "codemirror_mode": {
    "name": "ipython",
    "version": 3
   },
   "file_extension": ".py",
   "mimetype": "text/x-python",
   "name": "python",
   "nbconvert_exporter": "python",
   "pygments_lexer": "ipython3",
   "version": "3.7.6"
  }
 },
 "nbformat": 4,
 "nbformat_minor": 4
}
